{
 "cells": [
  {
   "cell_type": "markdown",
   "id": "457f64d5",
   "metadata": {},
   "source": [
    "# Deterministic neural network for neutron star equation of state\n",
    "\n",
    "We investigate the regression problem of retrieving the neutron star (NS) equation of state (EOS) from observational data with a deterministic neural network.\n",
    "\n",
    "We first consider observational data only composed by masses M and radii R. We then explore the case where also the l=2 dimensionless tidal Love number is known."
   ]
  },
  {
   "cell_type": "markdown",
   "id": "266acfb2",
   "metadata": {},
   "source": [
    "## Import\n",
    "Import here useful packages."
   ]
  },
  {
   "cell_type": "code",
   "execution_count": 1,
   "id": "5e3dac7a",
   "metadata": {},
   "outputs": [
    {
     "name": "stderr",
     "output_type": "stream",
     "text": [
      "2024-04-22 16:16:43.860905: I tensorflow/core/util/port.cc:111] oneDNN custom operations are on. You may see slightly different numerical results due to floating-point round-off errors from different computation orders. To turn them off, set the environment variable `TF_ENABLE_ONEDNN_OPTS=0`.\n",
      "2024-04-22 16:16:43.889797: E tensorflow/compiler/xla/stream_executor/cuda/cuda_dnn.cc:9342] Unable to register cuDNN factory: Attempting to register factory for plugin cuDNN when one has already been registered\n",
      "2024-04-22 16:16:43.889827: E tensorflow/compiler/xla/stream_executor/cuda/cuda_fft.cc:609] Unable to register cuFFT factory: Attempting to register factory for plugin cuFFT when one has already been registered\n",
      "2024-04-22 16:16:43.889848: E tensorflow/compiler/xla/stream_executor/cuda/cuda_blas.cc:1518] Unable to register cuBLAS factory: Attempting to register factory for plugin cuBLAS when one has already been registered\n",
      "2024-04-22 16:16:43.895739: I tensorflow/core/platform/cpu_feature_guard.cc:182] This TensorFlow binary is optimized to use available CPU instructions in performance-critical operations.\n",
      "To enable the following instructions: AVX2 AVX512F AVX512_VNNI FMA, in other operations, rebuild TensorFlow with the appropriate compiler flags.\n"
     ]
    }
   ],
   "source": [
    "import tensorflow as tf\n",
    "import numpy as np\n",
    "import statistics\n",
    "from pandas import read_csv\n",
    "from sklearn.preprocessing import LabelEncoder\n",
    "from sklearn.model_selection import train_test_split\n",
    "from tensorflow.keras.utils import plot_model\n",
    "from tensorflow.keras.models import load_model\n",
    "from model_det import *"
   ]
  },
  {
   "cell_type": "markdown",
   "id": "2e20e3b1",
   "metadata": {
    "heading_collapsed": true
   },
   "source": [
    "## M-R observational data\n",
    "Neural networks for the case were the inputs are only composed of M-R data. We utilise two different neural networks; a classification model to calculate the probability of the low density EOS to either belong to the AP4 or the SLy class, and a regression model to retrieve the value of the vacuum energy shift and the speed of sound parametrization."
   ]
  },
  {
   "cell_type": "markdown",
   "id": "2c40ae14",
   "metadata": {
    "heading_collapsed": true,
    "hidden": true
   },
   "source": [
    "### Dataset\n",
    "\n",
    "Let us upload the dataset, renormalize it, divide it in input/output, and in training set and validation set. \n"
   ]
  },
  {
   "cell_type": "markdown",
   "id": "bb33f9a5",
   "metadata": {
    "hidden": true
   },
   "source": [
    "First, we load the dataset. For the case of 15 observation M-R points, there are 46 columns (from 0 to 45). From 0 to 15 we have the outputs, which describes the specific EOS chosen. From 16 to 45, we have the inputs, that is the mass and radius points. The precise structure is as follow:\n",
    "- column 0, the low-density EOS, it can either be AP4 or SLy. \n",
    "- column 1, the value of cosmological constant (from -(194 MeV)^4 to (194 MeV)^4). \n",
    "- column 2-8, the 7 random values of mass density for the QCD speed of sound parametrization.\n",
    "- column 9-15, the 7 random values of speed of sound for the QCD speed of sound parametrization.\n",
    "- column 16-30, the 15 values of the masses on the M-R curve.\n",
    "- column 31-45, the 15 values of the radii on the M-R curve.\n",
    "\n",
    "We can also choose between different dataset. First of all, we can choose between 15, 20, and 30 observation points from each M-R curve. Doing so, increase the number of columns of the dataset. We can also change the number of 'shifting' repetitions (100, 200, 300). Note that for the case of 15 obs. points, only the 100 and 200 repetition dataset are provided."
   ]
  },
  {
   "cell_type": "code",
   "execution_count": null,
   "id": "59e37bd2",
   "metadata": {
    "hidden": true
   },
   "outputs": [],
   "source": [
    "#Choose how many observational points we want (15,20,30) and rep. of shifting (100,200,300)\n",
    "points = 15 #15 #20 #30\n",
    "rep = 200 #100 #200 #300"
   ]
  },
  {
   "cell_type": "code",
   "execution_count": null,
   "id": "39ad8886",
   "metadata": {
    "code_folding": [],
    "hidden": true
   },
   "outputs": [],
   "source": [
    "if points == 15:\n",
    "    if rep == 100:\n",
    "        df = read_csv(\"dataset_15points.csv\", header = None)\n",
    "    elif rep == 200:\n",
    "        df = read_csv(\"dataset_15points_larger.csv\", header = None)\n",
    "elif points == 20:\n",
    "    if rep == 100:\n",
    "        df = read_csv(\"dataset_20points.csv\", header = None)\n",
    "    elif rep == 200:\n",
    "        df = read_csv(\"dataset_20points_larger.csv\", header = None)\n",
    "    elif rep == 300:\n",
    "        df = read_csv(\"dataset_20points_larger300.csv\", header = None)\n",
    "elif points == 30:\n",
    "    if rep == 100:\n",
    "        df = read_csv(\"dataset_30points.csv\", header = None)\n",
    "    elif rep == 200:\n",
    "        df = read_csv(\"dataset_30points_larger.csv\", header = None)\n",
    "    elif rep == 300:\n",
    "        df = read_csv(\"dataset_30points_larger300.csv\", header = None)"
   ]
  },
  {
   "cell_type": "markdown",
   "id": "a5cf627a",
   "metadata": {
    "hidden": true
   },
   "source": [
    "We shuffle the dataset. This is important to avoid overfitting in the neural networks."
   ]
  },
  {
   "cell_type": "code",
   "execution_count": null,
   "id": "4d117b7f",
   "metadata": {
    "hidden": true
   },
   "outputs": [],
   "source": [
    "df = df.sample(frac=1).reset_index(drop=True)"
   ]
  },
  {
   "cell_type": "markdown",
   "id": "725110f2",
   "metadata": {
    "hidden": true
   },
   "source": [
    "We split the dataset into inputs (X) and outputs (y). Note that the SLy/AP4 data is saved as a different output as this goes into a different model (classification). For the classification model there are 2 classes, either SLy or AP4."
   ]
  },
  {
   "cell_type": "code",
   "execution_count": null,
   "id": "4b328e9c",
   "metadata": {
    "hidden": true
   },
   "outputs": [],
   "source": [
    "if points == 15:\n",
    "    X, yeos, y = df.iloc[:,16:46].values, df.iloc[:,0].values, df.iloc[:,1:16].values\n",
    "elif points == 20:\n",
    "    X, yeos, y = df.iloc[:,16:56].values, df.iloc[:,0].values, df.iloc[:,1:16].values\n",
    "elif points == 30:\n",
    "    X, yeos, y = df.iloc[:,16:76].values, df.iloc[:,0].values, df.iloc[:,1:16].values"
   ]
  },
  {
   "cell_type": "markdown",
   "id": "bc2603b8",
   "metadata": {
    "hidden": true
   },
   "source": [
    "During the shifting procedure (when the data was generated) some of the lower masses on the M-R curve can become negative. This is clearly an unphysical feature, and we eliminate those observational data that present this anomaly."
   ]
  },
  {
   "cell_type": "code",
   "execution_count": null,
   "id": "f0846dee",
   "metadata": {
    "hidden": true
   },
   "outputs": [],
   "source": [
    "#Eliminate those M-R curves with negative masses and radii\n",
    "indices = []\n",
    "for i in range(0,len(X)): #rows\n",
    "    for j in range(0,len(X[1])): #columns\n",
    "        if X[i,j] < 0:\n",
    "            indices.append(i)\n",
    "            break\n",
    "X = np.delete(X,indices,axis=0)\n",
    "yeos = np.delete(yeos,indices,axis=0)\n",
    "y = np.delete(y,indices,axis=0)"
   ]
  },
  {
   "cell_type": "markdown",
   "id": "0af0e95e",
   "metadata": {
    "hidden": true
   },
   "source": [
    "We normalize our outputs, such as as each entry is between (0,1). Note that the speed of sound does not need to be renormalized, since it is already in the interval (0,1)."
   ]
  },
  {
   "cell_type": "code",
   "execution_count": null,
   "id": "d0f4c59b",
   "metadata": {
    "hidden": true
   },
   "outputs": [],
   "source": [
    "#Encode strings to integer (AP4,SLy)->(0,1)\n",
    "yeos[:] = LabelEncoder().fit_transform(yeos[:])\n",
    "#Normalize Λ column and ρ to range (0,1)\n",
    "y[:,0] = (y[:,0] + 194.)/388.\n",
    "y[:,1] = y[:,1]/y[0,7]\n",
    "y[:,2] = y[:,2]/y[0,7]\n",
    "y[:,3] = y[:,3]/y[0,7]\n",
    "y[:,4] = y[:,4]/y[0,7]\n",
    "y[:,5] = y[:,5]/y[0,7]\n",
    "y[:,6] = y[:,6]/y[0,7]\n",
    "y[:,7] = y[:,7]/y[0,7]"
   ]
  },
  {
   "cell_type": "markdown",
   "id": "94b9f82c",
   "metadata": {
    "hidden": true
   },
   "source": [
    "We create the two classes output for the classification model, needed to distinguish between AP4 and SLy."
   ]
  },
  {
   "cell_type": "code",
   "execution_count": null,
   "id": "869fd348",
   "metadata": {
    "hidden": true
   },
   "outputs": [],
   "source": [
    "yclass = np.empty([len(yeos), 2])\n",
    "for i in range(0,len(yeos)):\n",
    "    #first value in array is SLy class, second value is AP4 class\n",
    "    yclass[i] = [yeos[i], 1- yeos[i]]"
   ]
  },
  {
   "cell_type": "code",
   "execution_count": null,
   "id": "191908e2",
   "metadata": {
    "hidden": true
   },
   "outputs": [],
   "source": [
    "#Ensure all data are floating point values\n",
    "X = X.astype('float32')\n",
    "yclas = yclass.astype('float32')\n",
    "y = y.astype('float32')\n",
    "print(X.shape, yclass.shape, y.shape)"
   ]
  },
  {
   "cell_type": "code",
   "execution_count": null,
   "id": "20621ba1",
   "metadata": {
    "hidden": true
   },
   "outputs": [],
   "source": [
    "#If needed, split into train and test datasets\n",
    "X_train, X_test, yclass_train, yclass_test, y_train, y_test = train_test_split(X, yclass, y, test_size=0.33)\n",
    "print(X_train.shape, X_test.shape, yclass_train.shape, yclass_test.shape, y_train.shape, y_test.shape)"
   ]
  },
  {
   "cell_type": "code",
   "execution_count": null,
   "id": "f92a74b4",
   "metadata": {
    "hidden": true
   },
   "outputs": [],
   "source": [
    "#Determine the number of input features\n",
    "n_features = X.shape[1]"
   ]
  },
  {
   "cell_type": "markdown",
   "id": "bddfa369",
   "metadata": {
    "heading_collapsed": true,
    "hidden": true
   },
   "source": [
    "### Classification neural network\n",
    "\n",
    "This is the classification analysis. It calculates the probability for the EOS to either be the SLy or the AP4 in the low energy density regime."
   ]
  },
  {
   "cell_type": "markdown",
   "id": "8a8a0a98",
   "metadata": {
    "heading_collapsed": true,
    "hidden": true
   },
   "source": [
    "#### The model\n",
    "Several models have been created (and tested) they are stored in the folder as 'modelClass_n{rep}_N{points}_{nodes1}_{nodes2}_{nodes3}.keras'."
   ]
  },
  {
   "cell_type": "code",
   "execution_count": null,
   "id": "38183e92",
   "metadata": {
    "hidden": true
   },
   "outputs": [],
   "source": [
    "loss_list = []\n",
    "acc_list = []\n",
    "val_loss_list = []\n",
    "val_acc_list = []\n",
    "last_acc = 0.\n",
    "n_nodes = 1 #1 #2 #3 #CHOOSE!\n",
    "nodes1 = 270 #CHOOSE!\n",
    "nodes2 = 0 #CHOOSE! If not present put 0, to store model/plot correctly \n",
    "nodes3 = 0 #CHOOSE! If not present put 0, to store model/plot correctly\n",
    "activation_hidden = 'relu'\n",
    "ke_init = 'he_normal'\n",
    "activation_out = 'sigmoid'\n",
    "ke_init_out = 'glorot_uniform'\n",
    "\n",
    "\n",
    "for x in range(20):\n",
    "    print('Evaluating cycle:',x)\n",
    "    \n",
    "    #create model\n",
    "    model = produce_model_class(n_nodes, nodes1, nodes2, nodes3, activation_hidden,\n",
    "                              ke_init, activation_out, ke_init_out, n_features)\n",
    "    # summarize the model\n",
    "    #model.summary()\n",
    "    \n",
    "    #Compile the model\n",
    "    model.compile(optimizer='adam', loss='binary_crossentropy', metrics=['binary_accuracy'])\n",
    "    \n",
    "    #Fit the model\n",
    "    history = model.fit(X, yclass, epochs=100, batch_size=100, verbose=1, \n",
    "                        validation_split = 0.2)\n",
    "    \n",
    "    #Store last value of loss, accuracy, validation loss, and validation accuracy\n",
    "    store_values_class(loss_list, val_loss_list, acc_list, val_acc_list, history)\n",
    "    \n",
    "    #Save only best model and plot its learning curves\n",
    "    if history.history['binary_accuracy'][-1] > last_acc:\n",
    "        print('Saving model at cycle:', x)\n",
    "        model.save(f'modelClass_n{rep}_N{points}_{nodes1}_{nodes2}_{nodes3}.keras')\n",
    "        last_acc = history.history['binary_accuracy'][-1]\n",
    "        \n",
    "        #Plot learning curves and save\n",
    "        plot_learning_curve_class(history, rep, points, nodes1, nodes2, nodes3, \n",
    "                                check_k2 = False)\n",
    "        \n",
    "        #Plot accuracy and save\n",
    "        plot_accuracy(history, rep, points, nodes1, nodes2, nodes3, check_k2 = False)\n",
    "    \n",
    "acc_mean, acc_stdv = statistics.mean(acc_list), statistics.pstdev(acc_list)    \n",
    "val_acc_mean, val_acc_stdv = statistics.mean(val_acc_list), statistics.pstdev(val_acc_list)\n",
    "loss_mean, loss_stdv = statistics.mean(loss_list), statistics.pstdev(loss_list)    \n",
    "val_loss_mean,val_loss_stdv=statistics.mean(val_loss_list),statistics.pstdev(val_loss_list)\n",
    "\n",
    "loss_mean,loss_stdv,val_loss_mean,val_loss_stdv,acc_mean,acc_stdv,val_acc_mean,val_acc_stdv"
   ]
  },
  {
   "cell_type": "code",
   "execution_count": null,
   "id": "af2bf70f",
   "metadata": {
    "hidden": true
   },
   "outputs": [],
   "source": [
    "#Plot the model\n",
    "plot_model(model, f'modelClass_n{rep}_N{points}_{nodes1}_{nodes2}_{nodes3}.png', \n",
    "           show_shapes=True);"
   ]
  },
  {
   "cell_type": "markdown",
   "id": "83621cf5",
   "metadata": {
    "heading_collapsed": true,
    "hidden": true
   },
   "source": [
    "### Regression neural network\n",
    "\n",
    "This is the regression analysis, made for retrieving the cosmological constant value and the speed of sound vs mass density part."
   ]
  },
  {
   "cell_type": "markdown",
   "id": "41938a66",
   "metadata": {
    "heading_collapsed": true,
    "hidden": true
   },
   "source": [
    "#### The model\n",
    "\n",
    "Let us create and train our neural network. Several models have been created (and tested) they are stored in the folder as 'modelReg_n{rep}_ N{points}_{nodes}.keras'.\n",
    "\n",
    "Each model has been tested 20 times, we can evaluate the mean and the standard deviation of the loss (training and validation), we save only the model with the lowest loss for each configuration."
   ]
  },
  {
   "cell_type": "code",
   "execution_count": null,
   "id": "2b0bb039",
   "metadata": {
    "hidden": true
   },
   "outputs": [],
   "source": [
    "loss_list = []\n",
    "val_loss_list = []\n",
    "last_loss = 1\n",
    "nodes = 90\n",
    "activation_hidden = 'relu'\n",
    "ke_init = 'he_normal'\n",
    "activation_out = 'sigmoid'\n",
    "ke_init_out = 'glorot_uniform'\n",
    "\n",
    "for x in range(20):\n",
    "    print('Evaluating cycle:',x)\n",
    "    #create model\n",
    "    model = produce_model_reg(nodes, activation_hidden, ke_init, activation_out, \n",
    "                              ke_init_out, n_features)\n",
    "    \n",
    "    #compile model\n",
    "    model.compile(optimizer='adam', loss='msle')\n",
    "    \n",
    "    #Fit the model\n",
    "    history = model.fit(X, y, epochs=100, batch_size=100, verbose=1, validation_split = 0.2)\n",
    "    \n",
    "    #Store last value of loss and validation loss\n",
    "    store_values_reg(loss_list, val_loss_list, history)\n",
    "        \n",
    "    #Save only best model and plot its learning curves\n",
    "    if history.history['loss'][-1] < last_loss:\n",
    "        print('Saving model at cycle:', x)\n",
    "        model.save(f'modelReg_n{rep}_N{points}_{nodes}.keras')\n",
    "        last_loss = history.history['loss'][-1]\n",
    "        \n",
    "        #Plot learning curves and save\n",
    "        plot_learning_curve_reg(history, rep, points, nodes, check_k2 = False)\n",
    "    \n",
    "loss_mean, loss_stdv = statistics.mean(loss_list), statistics.pstdev(loss_list)    \n",
    "val_loss_mean, val_loss_stdv = statistics.mean(val_loss_list), statistics.pstdev(val_loss_list)\n",
    "loss_mean, loss_stdv, val_loss_mean, val_loss_stdv "
   ]
  },
  {
   "cell_type": "code",
   "execution_count": null,
   "id": "0b377314",
   "metadata": {
    "hidden": true
   },
   "outputs": [],
   "source": [
    "#Plot the model\n",
    "plot_model(model, f'modelReg_n{rep}_N{points}_{nodes}.png', show_shapes=True);"
   ]
  },
  {
   "cell_type": "markdown",
   "id": "4fe34ec1",
   "metadata": {
    "heading_collapsed": true
   },
   "source": [
    "## M-R-k2 observational data\n",
    "\n",
    "Neural networks for the case were the inputs are composed of M-R-k2 data. We utilise two different neural networks; a classification model to calculate the probability of the low density EOS to either belong to the AP4 or the SLy class, and a regression model to retrieve the value of the vacuum energy shift and the speed of sound parametrization."
   ]
  },
  {
   "cell_type": "markdown",
   "id": "7951956a",
   "metadata": {
    "heading_collapsed": true,
    "hidden": true
   },
   "source": [
    "### Dataset\n",
    "\n",
    "Let us upload the dataset, renormalize it, divide it in input/output, and in training set and validation set."
   ]
  },
  {
   "cell_type": "markdown",
   "id": "c8e77f13",
   "metadata": {
    "hidden": true
   },
   "source": [
    "First, we load the dataset. For the case of 15 observation M-R points, there are 61 columns (from 0 to 60). From 0 to 15 we have the outputs, which describes the specific EOS chosen. From 16 to 45, we have the inputs, that is the mass, radius and k2 points. The precise structure is as follow:\n",
    "- column 0, the low-density EOS, it can either be AP4 or SLy. \n",
    "- column 1, the value of cosmological constant (from -(194 MeV)^4 to (194 MeV)^4). \n",
    "- column 2-8, the 7 random values of mass density for the QCD speed of sound parametrization.\n",
    "- column 9-15, the 7 random values of speed of sound for the QCD speed of sound parametrization.\n",
    "- column 16-30, the 15 values of the masses on the M-R curve.\n",
    "- column 31-45, the 15 values of the radii on the M-R curve.\n",
    "- column 46-60, the 15 values of the tidal Love number on the M-k2 curve.\n",
    "\n",
    "We can also choose between different dataset. First of all, we can choose between 15, 20, and 30 observation points from each M-R curve. Doing so, increase the number of columns of the dataset. We can also change the number of 'shifting' repetitions (100, 200, 300). Note that for the case of 15 obs. points, only the 100 and 200 repetition dataset are provided."
   ]
  },
  {
   "cell_type": "code",
   "execution_count": null,
   "id": "d06d83dd",
   "metadata": {
    "hidden": true
   },
   "outputs": [],
   "source": [
    "#Choose how many observational points we want (15,20,30) and rep. of shifting (100,200,300)\n",
    "points = 15 #15 #20 #30\n",
    "rep = 200 #100 #200 #300"
   ]
  },
  {
   "cell_type": "code",
   "execution_count": null,
   "id": "94e00acc",
   "metadata": {
    "hidden": true
   },
   "outputs": [],
   "source": [
    "if points == 15:\n",
    "    if rep == 100:\n",
    "        df = read_csv(\"datasetk2_15points.csv\", header = None)\n",
    "    elif rep == 200:\n",
    "        df = read_csv(\"datasetk2_15points_larger.csv\", header = None)\n",
    "elif points == 20:\n",
    "    if rep == 100:\n",
    "        df = read_csv(\"datasetk2_20points.csv\", header = None)\n",
    "    elif rep == 200:\n",
    "        df = read_csv(\"datasetk2_20points_larger.csv\", header = None)\n",
    "    elif rep == 300:\n",
    "        df = read_csv(\"datasetk2_20points_larger300.csv\", header = None)\n",
    "elif points == 30:\n",
    "    if rep == 100:\n",
    "        df = read_csv(\"datasetk2_30points.csv\", header = None)\n",
    "    elif rep == 200:\n",
    "        df = read_csv(\"datasetk2_30points_larger.csv\", header = None)\n",
    "    elif rep == 300:\n",
    "        df = read_csv(\"datasetk2_30points_larger300.csv\", header = None)"
   ]
  },
  {
   "cell_type": "markdown",
   "id": "e7d6c40a",
   "metadata": {
    "hidden": true
   },
   "source": [
    "We shuffle the dataset. This is important to avoid overfitting in the neural networks."
   ]
  },
  {
   "cell_type": "code",
   "execution_count": null,
   "id": "b3d42fc3",
   "metadata": {
    "hidden": true
   },
   "outputs": [],
   "source": [
    "df = df.sample(frac=1).reset_index(drop=True)"
   ]
  },
  {
   "cell_type": "markdown",
   "id": "6522234e",
   "metadata": {
    "hidden": true
   },
   "source": [
    "We split the dataset into inputs (X) and outputs (y). Note that the SLy/AP4 data is saved as a different output as this goes into a different model (classification). For the classification model there are 2 classes, either SLy or AP4."
   ]
  },
  {
   "cell_type": "code",
   "execution_count": null,
   "id": "1d93e9bd",
   "metadata": {
    "hidden": true
   },
   "outputs": [],
   "source": [
    "if points == 15:\n",
    "    X, yeos, y = df.iloc[:,16:61].values, df.iloc[:,0].values, df.iloc[:,1:16].values\n",
    "elif points == 20:\n",
    "    X, yeos, y = df.iloc[:,16:76].values, df.iloc[:,0].values, df.iloc[:,1:16].values\n",
    "elif points == 30:\n",
    "    X, yeos, y = df.iloc[:,16:106].values, df.iloc[:,0].values, df.iloc[:,1:16].values"
   ]
  },
  {
   "cell_type": "markdown",
   "id": "e4cf2e7a",
   "metadata": {
    "hidden": true
   },
   "source": [
    "During the shifting procedure (when the data was generated) some of the lower masses on the M-R curve can become negative. This is clearly an unphysical feature, and we eliminate those observational data that present this anomaly."
   ]
  },
  {
   "cell_type": "code",
   "execution_count": null,
   "id": "5fa01de5",
   "metadata": {
    "code_folding": [],
    "hidden": true
   },
   "outputs": [],
   "source": [
    "#Eliminate those M-R-k2 curves with negative masses and radii\n",
    "indices = []\n",
    "for i in range(0,len(X)): #rows\n",
    "    for j in range(0,len(X[1])-points): #columns\n",
    "        if X[i,j] < 0:\n",
    "            indices.append(i)\n",
    "            break\n",
    "X = np.delete(X,indices,axis=0)\n",
    "yeos = np.delete(yeos,indices,axis=0)\n",
    "y = np.delete(y,indices,axis=0)"
   ]
  },
  {
   "cell_type": "markdown",
   "id": "91d45d93",
   "metadata": {
    "hidden": true
   },
   "source": [
    "We normalize our outputs, such as as each entry is between (0,1). Note that the speed of sound does not need to be renormalized, since it is already in the interval (0,1). We also normalize the k2 values."
   ]
  },
  {
   "cell_type": "code",
   "execution_count": null,
   "id": "0b702bb5",
   "metadata": {
    "hidden": true
   },
   "outputs": [],
   "source": [
    "#Encode strings to integer (AP4,SLy)->(0,1)\n",
    "yeos[:] = LabelEncoder().fit_transform(yeos[:])\n",
    "#Normalize Λ column and ρ to range (0,1)\n",
    "y[:,0] = (y[:,0] + 194.)/388.\n",
    "y[:,1] = y[:,1]/y[0,7]\n",
    "y[:,2] = y[:,2]/y[0,7]\n",
    "y[:,3] = y[:,3]/y[0,7]\n",
    "y[:,4] = y[:,4]/y[0,7]\n",
    "y[:,5] = y[:,5]/y[0,7]\n",
    "y[:,6] = y[:,6]/y[0,7]\n",
    "y[:,7] = y[:,7]/y[0,7]"
   ]
  },
  {
   "cell_type": "code",
   "execution_count": null,
   "id": "776cc425",
   "metadata": {
    "hidden": true
   },
   "outputs": [],
   "source": [
    "if points == 15:\n",
    "    k2max = X[:,30:45].max()\n",
    "    k2min = X[:,30:45].min()\n",
    "    X[:,30:45] = renormalize(X[:,30:45], k2min, k2max)\n",
    "elif points == 20:\n",
    "    k2max = X[:,40:60].max()\n",
    "    k2min = X[:,40:60].min()\n",
    "    X[:,40:60] = renormalize(X[:,40:60], k2min, k2max)\n",
    "elif points == 30:#check\n",
    "    k2max = X[:,60:90].max()\n",
    "    k2min = X[:,60:90].min()\n",
    "    X[:,60:90] = renormalize(X[:,60:90], k2min, k2max)"
   ]
  },
  {
   "cell_type": "markdown",
   "id": "e4fa2884",
   "metadata": {
    "hidden": true
   },
   "source": [
    "We create the two classes output for the classification model, needed to distinguish between AP4 and SLy."
   ]
  },
  {
   "cell_type": "code",
   "execution_count": null,
   "id": "7ffcc913",
   "metadata": {
    "hidden": true
   },
   "outputs": [],
   "source": [
    "yclass = np.empty([len(yeos), 2])\n",
    "for i in range(0,len(yeos)):\n",
    "    #first value in array is SLy class, second value is AP4 class\n",
    "    yclass[i] = [yeos[i], 1- yeos[i]]"
   ]
  },
  {
   "cell_type": "code",
   "execution_count": null,
   "id": "2e82337e",
   "metadata": {
    "hidden": true
   },
   "outputs": [],
   "source": [
    "#Ensure all data are floating point values\n",
    "X = X.astype('float32')\n",
    "yclass = yclass.astype('float32')\n",
    "y = y.astype('float32')\n",
    "print(X.shape, yclass.shape, y.shape)"
   ]
  },
  {
   "cell_type": "code",
   "execution_count": null,
   "id": "3efcc429",
   "metadata": {
    "hidden": true
   },
   "outputs": [],
   "source": [
    "#If needed, split into train and test datasets\n",
    "X_train, X_test, yclass_train, yclass_test, y_train, y_test = train_test_split(X, yclass, y, test_size=0.33)\n",
    "print(X_train.shape, X_test.shape, yclass_train.shape, yclass_test.shape, y_train.shape, y_test.shape)"
   ]
  },
  {
   "cell_type": "code",
   "execution_count": null,
   "id": "5e5f0aa2",
   "metadata": {
    "hidden": true
   },
   "outputs": [],
   "source": [
    "#Determine the number of input features\n",
    "n_features = X.shape[1]"
   ]
  },
  {
   "cell_type": "markdown",
   "id": "8f40d21d",
   "metadata": {
    "heading_collapsed": true,
    "hidden": true
   },
   "source": [
    "### Classification neural network\n",
    "\n",
    "This is the classification analysis. It calculates the probability for the EOS to either be the SLy or the AP4 in the low energy density regime."
   ]
  },
  {
   "cell_type": "markdown",
   "id": "16660962",
   "metadata": {
    "heading_collapsed": true,
    "hidden": true
   },
   "source": [
    "#### The model\n",
    "\n",
    "Several models have been created (and tested) they are stored in the folder as 'modelClassk2_n{rep}_N{points}_{nodes1}_{nodes2}_{nodes3}.keras'."
   ]
  },
  {
   "cell_type": "code",
   "execution_count": null,
   "id": "52c5ff07",
   "metadata": {
    "hidden": true
   },
   "outputs": [],
   "source": [
    "loss_list = []\n",
    "acc_list = []\n",
    "val_loss_list = []\n",
    "val_acc_list = []\n",
    "last_acc = 0.\n",
    "n_nodes = 3 #1 #2 #3\n",
    "nodes1 = 270\n",
    "nodes2 = 90\n",
    "nodes3 = 90\n",
    "activation_hidden = 'relu'\n",
    "ke_init = 'he_normal'\n",
    "activation_out = 'sigmoid'\n",
    "ke_init_out = 'glorot_uniform'\n",
    "\n",
    "\n",
    "for x in range(20):\n",
    "    print('Evaluating cycle:',x)\n",
    "    \n",
    "    #create model\n",
    "    model = produce_model_class(n_nodes, nodes1, nodes2, nodes3, activation_hidden,\n",
    "                              ke_init, activation_out, ke_init_out, n_features)\n",
    "    # summarize the model\n",
    "    #model.summary()\n",
    "    \n",
    "    #Compile the model\n",
    "    model.compile(optimizer='adam', loss='binary_crossentropy', metrics=['binary_accuracy'])\n",
    "    \n",
    "    #Fit the model\n",
    "    history = model.fit(X, yclass, epochs=100, batch_size=100, verbose=1, \n",
    "                        validation_split = 0.2)\n",
    "    \n",
    "    #Store last value of loss, accuracy, validation loss, and validation accuracy\n",
    "    store_values_class(loss_list, val_loss_list, acc_list, val_acc_list, history)\n",
    "    \n",
    "    #Save only best model and plot its learning curves\n",
    "    if history.history['binary_accuracy'][-1] > last_acc:\n",
    "        print('Saving model at cycle:', x)\n",
    "        model.save(f'modelClassk2_n{rep}_N{points}_{nodes1}_{nodes2}_{nodes3}.keras')\n",
    "        last_acc = history.history['binary_accuracy'][-1]\n",
    "        \n",
    "        #Plot learning curves and save\n",
    "        plot_learning_curve_class(history, rep, points, nodes1, nodes2, nodes3, \n",
    "                                  check_k2 = True)\n",
    "        \n",
    "        #Plot accuracy and save\n",
    "        plot_accuracy(history, rep, points, nodes1, nodes2, nodes3, check_k2 = True)\n",
    "    \n",
    "acc_mean, acc_stdv = statistics.mean(acc_list), statistics.pstdev(acc_list)    \n",
    "val_acc_mean, val_acc_stdv = statistics.mean(val_acc_list), statistics.pstdev(val_acc_list)\n",
    "loss_mean, loss_stdv = statistics.mean(loss_list), statistics.pstdev(loss_list)    \n",
    "val_loss_mean,val_loss_stdv=statistics.mean(val_loss_list),statistics.pstdev(val_loss_list)\n",
    "\n",
    "loss_mean,loss_stdv,val_loss_mean,val_loss_stdv,acc_mean,acc_stdv,val_acc_mean,val_acc_stdv"
   ]
  },
  {
   "cell_type": "code",
   "execution_count": null,
   "id": "9bf53097",
   "metadata": {
    "hidden": true
   },
   "outputs": [],
   "source": [
    "#Plot the model\n",
    "plot_model(model, f'modelClassk2_n{rep}_N{points}_{nodes1}_{nodes2}_{nodes3}.png', \n",
    "           show_shapes=True);"
   ]
  },
  {
   "cell_type": "markdown",
   "id": "c917f004",
   "metadata": {
    "heading_collapsed": true,
    "hidden": true
   },
   "source": [
    "### Regression neural network\n",
    "\n",
    "This is the regression analysis, made for retrieving the cosmological constant value and the speed of sound vs mass density part."
   ]
  },
  {
   "cell_type": "markdown",
   "id": "ec6faa4e",
   "metadata": {
    "heading_collapsed": true,
    "hidden": true
   },
   "source": [
    "#### The model\n",
    "\n",
    "Let us create and train our neural network. Several models have been created (and tested) they are stored in the folder as 'modelRegk2_n{rep}_ N{points}_{nodes}.keras'.\n",
    "\n",
    "Each model has been tested 20 times, we can evaluate the mean and the standard deviation of the loss (training and validation), we save only the model with the lowest loss for each configuration."
   ]
  },
  {
   "cell_type": "code",
   "execution_count": null,
   "id": "7a6af292",
   "metadata": {
    "hidden": true
   },
   "outputs": [],
   "source": [
    "loss_list = []\n",
    "val_loss_list = []\n",
    "last_loss = 1\n",
    "nodes = 180\n",
    "activation_hidden = 'relu'\n",
    "ke_init = 'he_normal'\n",
    "activation_out = 'sigmoid'\n",
    "ke_init_out = 'glorot_uniform'\n",
    "\n",
    "for x in range(20):\n",
    "    print('Evaluating cycle:',x)\n",
    "    #create model\n",
    "    model = produce_model_reg(nodes, activation_hidden, ke_init, activation_out, \n",
    "                              ke_init_out, n_features)\n",
    "    \n",
    "    #compile model\n",
    "    model.compile(optimizer='adam', loss='msle')\n",
    "    \n",
    "    #Fit the model\n",
    "    history = model.fit(X, y, epochs=100, batch_size=100, verbose=1, validation_split = 0.2)\n",
    "    \n",
    "    #Store last value of loss and validation loss\n",
    "    store_values_reg(loss_list, val_loss_list, history)\n",
    "        \n",
    "    #Save only best model and plot its learning curves\n",
    "    if history.history['loss'][-1] < last_loss:\n",
    "        print('Saving model at cycle:', x)\n",
    "        model.save(f'modelRegk2_n{rep}_N{points}_{nodes}.keras')\n",
    "        last_loss = history.history['loss'][-1]\n",
    "        \n",
    "        #Plot learning curves and save\n",
    "        plot_learning_curve_reg(history, rep, points, nodes, check_k2 = True)\n",
    "    \n",
    "loss_mean, loss_stdv = statistics.mean(loss_list), statistics.pstdev(loss_list)    \n",
    "val_loss_mean, val_loss_stdv = statistics.mean(val_loss_list), statistics.pstdev(val_loss_list)\n",
    "loss_mean, loss_stdv, val_loss_mean, val_loss_stdv "
   ]
  },
  {
   "cell_type": "code",
   "execution_count": null,
   "id": "2fe8cb02",
   "metadata": {
    "hidden": true
   },
   "outputs": [],
   "source": [
    "#Plot the model\n",
    "plot_model(model, f'modelRegk2_n{rep}_N{points}_{nodes}.png', show_shapes=True);"
   ]
  },
  {
   "cell_type": "markdown",
   "id": "0bcc7106",
   "metadata": {},
   "source": [
    "## Testing\n",
    "Let us use our models on some new data. We created 3 test dataset for data composed of triplets (M-R-k2):\n",
    "- a dataset with 15 observations points, with n=10 repetition of injected Gaussian noise.\n",
    "- a dataset with 30 observation points, with n=10 repetition of injected Gaussian noise.\n",
    "- a dataset with 30 observation points, with n=100 repetition of injected Gaussian noise.\n",
    "We employ both our networks (classification and regression model)."
   ]
  },
  {
   "cell_type": "code",
   "execution_count": 8,
   "id": "abc80d42",
   "metadata": {},
   "outputs": [],
   "source": [
    "points = 30 #15 #30\n",
    "rep_test = 100 #10 #100"
   ]
  },
  {
   "cell_type": "code",
   "execution_count": 9,
   "id": "b677fb30",
   "metadata": {},
   "outputs": [],
   "source": [
    "if points == 15:\n",
    "    if rep_test == 10:\n",
    "        df = read_csv(\"datasetk2_15points_Test.csv\", header = None)\n",
    "if points == 30:\n",
    "    if rep_test == 10:\n",
    "        df = read_csv(\"datasetk2_30points_Test.csv\", header = None)\n",
    "    if rep_test == 100:\n",
    "        df = read_csv(\"datasetk2_30points_Test_100.csv\", header = None)"
   ]
  },
  {
   "cell_type": "code",
   "execution_count": 10,
   "id": "1c526b32",
   "metadata": {},
   "outputs": [],
   "source": [
    "if points == 15:\n",
    "    X_test, yeos_test, y_test = df.iloc[:,16:61].values, df.iloc[:,0].values, df.iloc[:,1:16].values\n",
    "if points == 30:\n",
    "    X_test, yeos_test, y_test = df.iloc[:,16:106].values, df.iloc[:,0].values, df.iloc[:,1:16].values"
   ]
  },
  {
   "cell_type": "code",
   "execution_count": 11,
   "id": "8bfe62d3",
   "metadata": {},
   "outputs": [],
   "source": [
    "#Eliminate those M-R-k2 curves with negative masses and radii\n",
    "indices = []\n",
    "for i in range(0,len(X_test)): #rows\n",
    "    for j in range(0,len(X_test[1])-points): #columns\n",
    "        if X_test[i,j] < 0:\n",
    "            indices.append(i)\n",
    "            break\n",
    "X_test = np.delete(X_test,indices,axis=0)\n",
    "yeos_test = np.delete(yeos_test,indices,axis=0)\n",
    "y_test = np.delete(y_test,indices,axis=0)"
   ]
  },
  {
   "cell_type": "code",
   "execution_count": 12,
   "id": "d0b2e797",
   "metadata": {},
   "outputs": [],
   "source": [
    "#Encode strings to integer (AP4,SLy)->(0,1)\n",
    "yeos_test[:] = LabelEncoder().fit_transform(yeos_test[:])\n",
    "#Normalize Λ column and ρ to range (0,1)\n",
    "y_test[:,0] = (y_test[:,0] + 194.)/388.\n",
    "y_test[:,1] = y_test[:,1]/y_test[0,7]\n",
    "y_test[:,2] = y_test[:,2]/y_test[0,7]\n",
    "y_test[:,3] = y_test[:,3]/y_test[0,7]\n",
    "y_test[:,4] = y_test[:,4]/y_test[0,7]\n",
    "y_test[:,5] = y_test[:,5]/y_test[0,7]\n",
    "y_test[:,6] = y_test[:,6]/y_test[0,7]\n",
    "y_test[:,7] = y_test[:,7]/y_test[0,7]"
   ]
  },
  {
   "cell_type": "code",
   "execution_count": 13,
   "id": "b2fd8059",
   "metadata": {},
   "outputs": [],
   "source": [
    "if points == 15:\n",
    "    k2max, k2min = 1.71599896820702, -1.49075333645894\n",
    "    X_test[:,30:45] = renormalize(X_test[:,30:45], k2min, k2max)\n",
    "elif points == 30:\n",
    "    k2max, k2min = 1.66007354312931, -1.57981785098554\n",
    "    X_test[:,60:90] = renormalize(X_test[:,60:90], k2min, k2max)"
   ]
  },
  {
   "cell_type": "code",
   "execution_count": 14,
   "id": "580c83d8",
   "metadata": {},
   "outputs": [
    {
     "name": "stdout",
     "output_type": "stream",
     "text": [
      "(12800, 90) (12800,) (12800, 15)\n"
     ]
    }
   ],
   "source": [
    "X_test = X_test.astype('float32')\n",
    "yeos_test = yeos_test.astype('float32')\n",
    "y_test = y_test.astype('float32')\n",
    "print(X_test.shape, yeos_test.shape, y_test.shape)"
   ]
  },
  {
   "cell_type": "code",
   "execution_count": 15,
   "id": "9ff55014",
   "metadata": {},
   "outputs": [],
   "source": [
    "#Load the classification model\n",
    "rep = 300 #100 #200 #300\n",
    "nodes1 = 270\n",
    "nodes2 = 0\n",
    "nodes3 = 0\n",
    "model_class = load_model(f'modelClassk2_n{rep}_N{points}_{nodes1}_{nodes2}_{nodes3}.h5')\n",
    "#model_class = load_model(f'modelClassk2_n{rep}_N{points}_{nodes1}_{nodes2}_{nodes3}.keras')\n",
    "#model_class.summary()"
   ]
  },
  {
   "cell_type": "code",
   "execution_count": 16,
   "id": "f553a50e",
   "metadata": {},
   "outputs": [],
   "source": [
    "#Load the regresssion model\n",
    "rep = 300 #100 #200 #300\n",
    "nodes = 180\n",
    "model_reg = load_model(f'modelRegk2_n{rep}_N{points}_{nodes}.h5')\n",
    "#model_reg = load_model(f'modelRegk2_n{rep}_N{points}_{nodes}.keras')\n",
    "#model_reg.summary()"
   ]
  },
  {
   "cell_type": "code",
   "execution_count": 17,
   "id": "fe9d0eac",
   "metadata": {},
   "outputs": [
    {
     "name": "stdout",
     "output_type": "stream",
     "text": [
      "400/400 [==============================] - 0s 588us/step\n",
      "400/400 [==============================] - 0s 589us/step\n"
     ]
    }
   ],
   "source": [
    "yclass_hat = model_class.predict([X_test])\n",
    "y_hat = model_reg.predict([X_test])"
   ]
  },
  {
   "cell_type": "code",
   "execution_count": 18,
   "id": "5c0e6703",
   "metadata": {},
   "outputs": [
    {
     "name": "stdout",
     "output_type": "stream",
     "text": [
      "The accuracy for the classification model is: 0.870234375\n"
     ]
    }
   ],
   "source": [
    "yeos_hat = []\n",
    "for i in range(0,len(yclass_hat)):\n",
    "    if yclass_hat[i,0] > yclass_hat[i,1]:\n",
    "        yeos_hat.append(1)\n",
    "    else:\n",
    "        yeos_hat.append(0)\n",
    "\n",
    "count = 0\n",
    "for i in range(0,len(yeos_hat)):\n",
    "    if yeos_hat[i] == yeos_test[i]:\n",
    "        count += 1\n",
    "        \n",
    "print('The accuracy for the classification model is:',count/len(yeos_hat))"
   ]
  },
  {
   "cell_type": "markdown",
   "id": "764ab22f",
   "metadata": {},
   "source": [
    "#### Study of mean speed of sound"
   ]
  },
  {
   "cell_type": "code",
   "execution_count": 19,
   "id": "b148322b",
   "metadata": {},
   "outputs": [
    {
     "data": {
      "image/png": "[encoded data removed]",
      "text/plain": [
       "<Figure size 640x480 with 1 Axes>"
      ]
     },
     "metadata": {},
     "output_type": "display_data"
    }
   ],
   "source": [
    "#First analysis, check what is the mean of the speed of sound\n",
    "stat_test = np.empty([len(y_test), 2]) #mean, std dv\n",
    "stat_hat = np.empty([len(y_hat), 2]) #mean, std dv\n",
    "for i in range(0,len(y_test)):\n",
    "    #Note for the real data, interval of 10 lines are the same EOS with different shift\n",
    "    stat_test[i] = [statistics.mean(y_test[i,8:15]),statistics.pstdev(y_test[i,8:15])]\n",
    "    stat_hat[i] = [statistics.mean(y_hat[i,8:15]),statistics.pstdev(y_hat[i,8:15])]\n",
    "\n",
    "plot_mean_cs(stat_test, stat_hat, points, save = False)"
   ]
  },
  {
   "cell_type": "code",
   "execution_count": 20,
   "id": "41686ecc",
   "metadata": {
    "scrolled": true
   },
   "outputs": [
    {
     "data": {
      "image/png": "[encoded data removed]",
      "text/plain": [
       "<Figure size 640x480 with 1 Axes>"
      ]
     },
     "metadata": {},
     "output_type": "display_data"
    }
   ],
   "source": [
    "#Second analysis: it's the same eos at steps of 10 rows, I average over this 10 rows\n",
    "#disadvantage: each c_s interpolation is actually repeated more than 10 times, it can appear\n",
    "#with different values of Λ\n",
    "\n",
    "data_test = np.empty([int(len(stat_test)/rep_test), 2])\n",
    "data_hat = np.empty([int(len(stat_test)/rep_test), 2])\n",
    "\n",
    "produce_mean_cs_separate(data_test, data_hat, stat_test, stat_hat, rep_test)\n",
    "\n",
    "plot_mean_cs_separate(data_test, data_hat, points, save = False)"
   ]
  },
  {
   "cell_type": "code",
   "execution_count": 21,
   "id": "c722ff8c",
   "metadata": {},
   "outputs": [
    {
     "data": {
      "image/png": "[encoded data removed]",
      "text/plain": [
       "<Figure size 640x480 with 1 Axes>"
      ]
     },
     "metadata": {},
     "output_type": "display_data"
    }
   ],
   "source": [
    "#Third analysis: join data for same c_s interpolation\n",
    "\n",
    "#join test and hat, to then reorder them and not loose correspondence\n",
    "data_join = np.empty([len(stat_test), 4])\n",
    "for i in range(0,len(stat_test)):\n",
    "    data_join[i] = [stat_test[i,0],stat_test[i,1],stat_hat[i,0],stat_hat[i,1]]\n",
    "\n",
    "#reorder to regroup\n",
    "data_join = np.sort(data_join, axis=0)\n",
    "\n",
    "#save indices where new realisation begins\n",
    "indices = []\n",
    "for i in range(0,len(data_join)-1):\n",
    "    if data_join[i,0] != data_join[i+1,0]:\n",
    "        indices.append(i)\n",
    "        \n",
    "#need to include last index as well\n",
    "indices.append(len(data_join)-1)\n",
    "\n",
    "data_test = np.empty([len(indices), 2])\n",
    "data_hat = np.empty([len(indices), 2])\n",
    "\n",
    "produce_mean_cs_overall(indices, data_join, data_test, data_hat)\n",
    "\n",
    "plot_mean_cs_overall(data_test, data_hat, points, save = False)"
   ]
  },
  {
   "cell_type": "markdown",
   "id": "ce777dfb",
   "metadata": {},
   "source": [
    "#### Study of speed of sound profile"
   ]
  },
  {
   "cell_type": "code",
   "execution_count": 22,
   "id": "a8bc0a78",
   "metadata": {},
   "outputs": [
    {
     "data": {
      "image/png": "[encoded data removed]",
      "text/plain": [
       "<Figure size 640x480 with 1 Axes>"
      ]
     },
     "metadata": {},
     "output_type": "display_data"
    }
   ],
   "source": [
    "j = 0 #choose starting point either every 10 or every 100\n",
    "plot_cs_profile(j, y_test, y_hat, rep_test, points, save = False)"
   ]
  },
  {
   "cell_type": "markdown",
   "id": "82cfea99",
   "metadata": {},
   "source": [
    "#### Save EOS for TOV"
   ]
  },
  {
   "cell_type": "code",
   "execution_count": 22,
   "id": "f10d8414",
   "metadata": {},
   "outputs": [],
   "source": [
    "j = 1210 #choose which EOS to save, at an interval of rep_points (10 or 100)\n",
    "\n",
    "save_EOS(j, y_test, yeos_test, y_hat, yeos_hat, rep_test, points, save = True)"
   ]
  }
 ],
 "metadata": {
  "kernelspec": {
   "display_name": "Python 3 (ipykernel)",
   "language": "python",
   "name": "python3"
  },
  "language_info": {
   "codemirror_mode": {
    "name": "ipython",
    "version": 3
   },
   "file_extension": ".py",
   "mimetype": "text/x-python",
   "name": "python",
   "nbconvert_exporter": "python",
   "pygments_lexer": "ipython3",
   "version": "3.10.12"
  },
  "varInspector": {
   "cols": {
    "lenName": 16,
    "lenType": 16,
    "lenVar": 40
   },
   "kernels_config": {
    "python": {
     "delete_cmd_postfix": "",
     "delete_cmd_prefix": "del ",
     "library": "var_list.py",
     "varRefreshCmd": "print(var_dic_list())"
    },
    "r": {
     "delete_cmd_postfix": ") ",
     "delete_cmd_prefix": "rm(",
     "library": "var_list.r",
     "varRefreshCmd": "cat(var_dic_list()) "
    }
   },
   "types_to_exclude": [
    "module",
    "function",
    "builtin_function_or_method",
    "instance",
    "_Feature"
   ],
   "window_display": false
  }
 },
 "nbformat": 4,
 "nbformat_minor": 5
}
